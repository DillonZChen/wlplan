{
 "cells": [
  {
   "cell_type": "markdown",
   "metadata": {},
   "source": [
    "Graphs and NetworkX\n",
    "==================="
   ]
  },
  {
   "cell_type": "markdown",
   "metadata": {},
   "source": [
    "This tutorial will demonstrate how one can use WLPlan for various graph-related procedures:\n",
    "\n",
    "- converting planning problems and states into graphs,\n",
    "- converting WLPlan graphs into NetworkX graphs, and\n",
    "- visualising WLPlan graphs.\n",
    "\n",
    "We will assume that you have gone through and ran the code for the [introductory tutorial](https://github.com/DillonZChen/wlplan/blob/main/docs/tutorials/1_introduction.ipynb) which sets up the environment and constructs the dataset required for this tutorial. The corresponding notebook for this tutorial is available [here](https://github.com/DillonZChen/wlplan/blob/main/docs/tutorials/2_graphs.ipynb).\n",
    "\n",
    "We begin by importing the necessary packages and loading the dataset from the previous tutorial."
   ]
  },
  {
   "cell_type": "code",
   "execution_count": null,
   "metadata": {},
   "outputs": [],
   "source": [
    "# NetworkX draw requires matplotlib\n",
    "%pip install matplotlib\n",
    "\n",
    "import pickle\n",
    "import matplotlib.pyplot as plt\n",
    "import networkx as nx\n",
    "from wlplan.graph_generator import init_graph_generator, to_networkx, from_networkx\n",
    "\n",
    "# We assume we have generated the dataset from the introductory tutorial and load it\n",
    "with open(\"wlplan-blocks.pkl\", \"rb\") as f:\n",
    "    domain, dataset, y = pickle.load(f)"
   ]
  },
  {
   "cell_type": "markdown",
   "metadata": {},
   "source": [
    "## Initialising a Graph Generator\n",
    "In the following two lines of code, we initialise a graph generator and use it to convert the entire dataset into a list of graphs. The specific graph representation we will use for representing planning problems is the *Instance Learning Graph (ILG)* introduced in Definition 3.1 of the ICAPS paper [Return to Tradition: Learning Reliable Heuristics with Classical Machine Learning](https://arxiv.org/abs/2403.16508). Informally, the ILG nodes represent objects, true facts, and goals in the problem, with edges connecting objects to facts and goals they are instantiated in. An ILG subgraph of a Blocksworld problem is illustrated as follows:\n",
    "\n",
    "<img src=\"../_static/graph.svg\" class=\"center-img\"/>"
   ]
  },
  {
   "cell_type": "code",
   "execution_count": null,
   "metadata": {},
   "outputs": [],
   "source": [
    "graph_generator = init_graph_generator(graph_representation=\"ilg\", domain=domain)\n",
    "graphs = graph_generator.to_graphs(dataset)"
   ]
  },
  {
   "cell_type": "markdown",
   "metadata": {},
   "source": [
    "You can view some basic attributes of the graph or dump it to console entirely."
   ]
  },
  {
   "cell_type": "code",
   "execution_count": null,
   "metadata": {},
   "outputs": [],
   "source": [
    "graph = graphs[20]\n",
    "\n",
    "print(f\"{graph=}\")\n",
    "print(f\"{graph.node_colours=}\")\n",
    "print(f\"{graph.edges=}\")\n",
    "\n",
    "graph.dump()"
   ]
  },
  {
   "cell_type": "markdown",
   "metadata": {},
   "source": [
    "## Converting to and from NetworkX\n",
    "\n",
    "[NetworkX](https://networkx.org/) is a Python package with various useful graph manipulation algorithms. WLPlan has two simple functions for transforming its graph classes into NetworkX graphs and vice versa. Note that this means you can construct your own custom graphs for use with WLPlan to generate features."
   ]
  },
  {
   "cell_type": "code",
   "execution_count": null,
   "metadata": {},
   "outputs": [],
   "source": [
    "G = to_networkx(graph)\n",
    "\n",
    "print(f\"{G.nodes=}\")\n",
    "print(f\"{G.edges=}\")\n",
    "print(f\"{nx.diameter(G)=}\")\n",
    "\n",
    "back_to_wlplan_graph = from_networkx(G)\n",
    "\n",
    "print(f\"{back_to_wlplan_graph=}\")\n",
    "print(f\"{back_to_wlplan_graph.node_colours=}\")\n",
    "print(f\"{back_to_wlplan_graph.edges=}\")"
   ]
  },
  {
   "cell_type": "markdown",
   "metadata": {},
   "source": [
    "## Visualising WLPlan Graphs\n",
    "\n",
    "We can make use of NetworkX and Matplotlib to do the heavy lifting and give us the options for visualising graphs."
   ]
  },
  {
   "cell_type": "code",
   "execution_count": null,
   "metadata": {},
   "outputs": [],
   "source": [
    "object_nodes = {n for n in G.nodes() if n.startswith(\"b\")}\n",
    "pos = nx.bipartite_layout(G, nodes=object_nodes)\n",
    "cmap = plt.cm.cool  # brighter colours\n",
    "nx.draw(\n",
    "    G,\n",
    "    pos,\n",
    "    with_labels=True,\n",
    "    cmap=cmap,\n",
    "    edge_cmap=cmap,\n",
    "    node_color=[G.nodes[n][\"colour\"] for n in G.nodes],\n",
    "    edge_color=[G.edges[e].get(\"relation\") for e in G.edges],\n",
    "    node_size=800,\n",
    ")\n",
    "plt.show()"
   ]
  }
 ],
 "metadata": {
  "kernelspec": {
   "display_name": ".venv",
   "language": "python",
   "name": "python3"
  },
  "language_info": {
   "codemirror_mode": {
    "name": "ipython",
    "version": 3
   },
   "file_extension": ".py",
   "mimetype": "text/x-python",
   "name": "python",
   "nbconvert_exporter": "python",
   "pygments_lexer": "ipython3",
   "version": "3.12.3"
  }
 },
 "nbformat": 4,
 "nbformat_minor": 2
}
